{
 "cells": [
  {
   "cell_type": "code",
   "execution_count": null,
   "metadata": {},
   "outputs": [],
   "source": [
    "!pip install roboflow\n",
    "\n",
    "from roboflow import Roboflow\n",
    "rf = Roboflow(api_key=\"E0ut67fizszEF8ZcjFpl\")\n",
    "project = rf.workspace(\"yolo-tqxws\").project(\"counting-person-m6lrv\")\n",
    "version = project.version(1)\n",
    "dataset = version.download(\"yolov8\")\n",
    "\n",
    "!pip install roboflow\n",
    "\n",
    "from roboflow import Roboflow\n",
    "rf = Roboflow(api_key=\"E0ut67fizszEF8ZcjFpl\")\n",
    "project = rf.workspace(\"yolo-tqxws\").project(\"counting-person-m6lrv\")\n",
    "version = project.version(1)\n",
    "dataset = version.download(\"yolov8\")\n",
    "                \n",
    "                "
   ]
  },
  {
   "cell_type": "code",
   "execution_count": 3,
   "metadata": {},
   "outputs": [
    {
     "name": "stdout",
     "output_type": "stream",
     "text": [
      "loading Roboflow workspace...\n",
      "loading Roboflow project...\n"
     ]
    },
    {
     "ename": "OSError",
     "evalue": "[Errno 30] Read-only file system: 'counting-person-1'",
     "output_type": "error",
     "traceback": [
      "\u001b[0;31m---------------------------------------------------------------------------\u001b[0m",
      "\u001b[0;31mOSError\u001b[0m                                   Traceback (most recent call last)",
      "Cell \u001b[0;32mIn[3], line 9\u001b[0m\n\u001b[1;32m      7\u001b[0m project \u001b[39m=\u001b[39m rf\u001b[39m.\u001b[39mworkspace(\u001b[39m\"\u001b[39m\u001b[39myolo-tqxws\u001b[39m\u001b[39m\"\u001b[39m)\u001b[39m.\u001b[39mproject(\u001b[39m\"\u001b[39m\u001b[39mcounting-person-m6lrv\u001b[39m\u001b[39m\"\u001b[39m)\n\u001b[1;32m      8\u001b[0m version \u001b[39m=\u001b[39m project\u001b[39m.\u001b[39mversion(\u001b[39m1\u001b[39m)\n\u001b[0;32m----> 9\u001b[0m dataset \u001b[39m=\u001b[39m version\u001b[39m.\u001b[39mdownload(\u001b[39m\"\u001b[39m\u001b[39myolov8\u001b[39m\u001b[39m\"\u001b[39m)\n\u001b[1;32m     11\u001b[0m \u001b[39m# Step 4: Load and train YOLOv8 model\u001b[39;00m\n\u001b[1;32m     12\u001b[0m \u001b[39m# You can use 'yolov8n.pt', 'yolov8s.pt', 'yolov8m.pt', or 'yolov8l.pt' based on accuracy vs speed\u001b[39;00m\n\u001b[1;32m     13\u001b[0m model \u001b[39m=\u001b[39m YOLO(\u001b[39m\"\u001b[39m\u001b[39myolov8n.pt\u001b[39m\u001b[39m\"\u001b[39m)  \u001b[39m# using pretrained YOLOv8n model\u001b[39;00m\n",
      "File \u001b[0;32m/opt/anaconda3/lib/python3.12/site-packages/roboflow/core/version.py:232\u001b[0m, in \u001b[0;36mVersion.download\u001b[0;34m(self, model_format, location, overwrite)\u001b[0m\n\u001b[1;32m    229\u001b[0m         \u001b[39mexcept\u001b[39;00m json\u001b[39m.\u001b[39mJSONDecodeError:\n\u001b[1;32m    230\u001b[0m             response\u001b[39m.\u001b[39mraise_for_status()\n\u001b[0;32m--> 232\u001b[0m \u001b[39mself\u001b[39m\u001b[39m.\u001b[39m__download_zip(link, location, model_format)\n\u001b[1;32m    233\u001b[0m \u001b[39mself\u001b[39m\u001b[39m.\u001b[39m__extract_zip(location, model_format)\n\u001b[1;32m    234\u001b[0m \u001b[39mself\u001b[39m\u001b[39m.\u001b[39m__reformat_yaml(location, model_format)  \u001b[39m# TODO: is roboflow-python a place to be munging yaml files?\u001b[39;00m\n",
      "File \u001b[0;32m/opt/anaconda3/lib/python3.12/site-packages/roboflow/core/version.py:539\u001b[0m, in \u001b[0;36mVersion.__download_zip\u001b[0;34m(self, link, location, format)\u001b[0m\n\u001b[1;32m    530\u001b[0m \u001b[39m\u001b[39m\u001b[39m\"\"\"\u001b[39;00m\n\u001b[1;32m    531\u001b[0m \u001b[39mDownload a dataset's zip file from the given URL and save it in the desired location\u001b[39;00m\n\u001b[1;32m    532\u001b[0m \n\u001b[0;32m   (...)\u001b[0m\n\u001b[1;32m    536\u001b[0m \u001b[39m    format (str): the format identifier string\u001b[39;00m\n\u001b[1;32m    537\u001b[0m \u001b[39m\"\"\"\u001b[39;00m  \u001b[39m# noqa: E501 // docs\u001b[39;00m\n\u001b[1;32m    538\u001b[0m \u001b[39mif\u001b[39;00m \u001b[39mnot\u001b[39;00m os\u001b[39m.\u001b[39mpath\u001b[39m.\u001b[39mexists(location):\n\u001b[0;32m--> 539\u001b[0m     os\u001b[39m.\u001b[39mmakedirs(location)\n\u001b[1;32m    541\u001b[0m \u001b[39mdef\u001b[39;00m \u001b[39mbar_progress\u001b[39m(current, total, width\u001b[39m=\u001b[39m\u001b[39m80\u001b[39m):\n\u001b[1;32m    542\u001b[0m     progress_message \u001b[39m=\u001b[39m (\n\u001b[1;32m    543\u001b[0m         \u001b[39mf\u001b[39m\u001b[39m\"\u001b[39m\u001b[39mDownloading Dataset Version Zip in \u001b[39m\u001b[39m{\u001b[39;00mlocation\u001b[39m}\u001b[39;00m\u001b[39m to \u001b[39m\u001b[39m{\u001b[39;00m\u001b[39mformat\u001b[39m\u001b[39m}\u001b[39;00m\u001b[39m: \u001b[39m\u001b[39m\"\u001b[39m\n\u001b[1;32m    544\u001b[0m         \u001b[39mf\u001b[39m\u001b[39m\"\u001b[39m\u001b[39m{\u001b[39;00mcurrent\u001b[39m \u001b[39m\u001b[39m/\u001b[39m\u001b[39m \u001b[39mtotal\u001b[39m \u001b[39m\u001b[39m*\u001b[39m\u001b[39m \u001b[39m\u001b[39m100\u001b[39m\u001b[39m:\u001b[39;00m\u001b[39m.0f\u001b[39m\u001b[39m}\u001b[39;00m\u001b[39m% [\u001b[39m\u001b[39m{\u001b[39;00mcurrent\u001b[39m}\u001b[39;00m\u001b[39m / \u001b[39m\u001b[39m{\u001b[39;00mtotal\u001b[39m}\u001b[39;00m\u001b[39m] bytes\u001b[39m\u001b[39m\"\u001b[39m\n\u001b[1;32m    545\u001b[0m     )\n",
      "File \u001b[0;32m<frozen os>:225\u001b[0m, in \u001b[0;36mmakedirs\u001b[0;34m(name, mode, exist_ok)\u001b[0m\n",
      "\u001b[0;31mOSError\u001b[0m: [Errno 30] Read-only file system: 'counting-person-1'"
     ]
    }
   ],
   "source": [
    "\n",
    "\n",
    "# Step 2: Import libraries\n",
    "from roboflow import Roboflow\n",
    "from ultralytics import YOLO\n",
    "\n",
    "# Step 3: Download dataset from Roboflow\n",
    "rf = Roboflow(api_key=\"E0ut67fizszEF8ZcjFpl\")\n",
    "project = rf.workspace(\"yolo-tqxws\").project(\"counting-person-m6lrv\")\n",
    "version = project.version(1)\n",
    "dataset = version.download(\"yolov8\")\n",
    "\n",
    "# Step 4: Load and train YOLOv8 model\n",
    "# You can use 'yolov8n.pt', 'yolov8s.pt', 'yolov8m.pt', or 'yolov8l.pt' based on accuracy vs speed\n",
    "model = YOLO(\"yolov8n.pt\")  # using pretrained YOLOv8n model\n",
    "\n",
    "# Step 5: Train the model\n",
    "# dataset.location gives the path where the dataset is downloaded\n",
    "model.train(\n",
    "    data=f\"{dataset.location}/data.yaml\",  # correct path to data.yaml\n",
    "    epochs=20,          # you can increase for better accuracy\n",
    "    imgsz=640,          # image size\n",
    "    batch=16,           # change depending on your GPU memory\n",
    "    name=\"jj_yolov8_model\"  # experiment name\n",
    ")\n"
   ]
  }
 ],
 "metadata": {
  "kernelspec": {
   "display_name": "base",
   "language": "python",
   "name": "python3"
  },
  "language_info": {
   "codemirror_mode": {
    "name": "ipython",
    "version": 3
   },
   "file_extension": ".py",
   "mimetype": "text/x-python",
   "name": "python",
   "nbconvert_exporter": "python",
   "pygments_lexer": "ipython3",
   "version": "3.12.7"
  },
  "orig_nbformat": 4
 },
 "nbformat": 4,
 "nbformat_minor": 2
}
